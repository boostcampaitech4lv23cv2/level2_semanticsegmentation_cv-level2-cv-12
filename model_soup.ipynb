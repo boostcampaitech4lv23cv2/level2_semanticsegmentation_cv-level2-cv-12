{
 "cells": [
  {
   "attachments": {},
   "cell_type": "markdown",
   "metadata": {},
   "source": [
    "# Model soup"
   ]
  },
  {
   "cell_type": "code",
   "execution_count": 5,
   "metadata": {},
   "outputs": [],
   "source": [
    "# 기본코드\n",
    "import inspect\n",
    "import os\n",
    "import sys\n",
    "import time\n",
    "import numpy as np\n",
    "import pandas as pd\n",
    "\n",
    "import torch\n",
    "from dataloader import CustomDataLoader, do_transform, collate_fn\n",
    "from modules.losses import create_criterion\n",
    "from utils.utils import label_accuracy_score, add_hist, set_seed\n",
    "from easydict import EasyDict\n",
    "from modules.model import create_model\n",
    "\n",
    "\n",
    "args = EasyDict({\n",
    "    'val_json_path': '../data/val.json',\n",
    "    'data_dir': '../data',\n",
    "    'batch_size': 2,\n",
    "    'num_workers': 4,\n",
    "    'model_name': 'mit_unet_3plus',\n",
    "    'use_losses': 'combo',\n",
    "    'save_submission': True\n",
    "})"
   ]
  },
  {
   "cell_type": "code",
   "execution_count": 6,
   "metadata": {},
   "outputs": [],
   "source": [
    "def validation(args, epoch, model, data_loader, criterion, device):\n",
    "    print(f'\\n Start validation #{epoch}')\n",
    "    model.eval()\n",
    "    category_names = ['Background', 'General trash', 'Paper', 'Paper pack', 'Metal', 'Glass', 'Plastic', 'Styrofoam', 'Plastic bag', 'Battery', 'Clothing']\n",
    "\n",
    "    with torch.no_grad():\n",
    "        n_class = 11\n",
    "        total_loss = 0\n",
    "        cnt = 0\n",
    "        hist = np.zeros((n_class, n_class))\n",
    "        submission = pd.read_csv('/opt/ml/input/code/submission/sample_submission.csv', index_col=None)\n",
    "        for step, (images, masks, image_infos) in enumerate(data_loader):\n",
    "            images = torch.stack(images)       \n",
    "            masks = torch.stack(masks).long()\n",
    "            images, masks = images.to(device), masks.to(device)            \n",
    "            \n",
    "            # device 할당\n",
    "            model = model.to(device)\n",
    "            \n",
    "            outputs = model(images)\n",
    "            loss = criterion(outputs, masks)\n",
    "            total_loss += loss\n",
    "            cnt += 1\n",
    "            outputs = torch.argmax(outputs, dim=1).detach().cpu().numpy()\n",
    "            masks = masks.detach().cpu().numpy()\n",
    "\n",
    "            if args.save_submission:\n",
    "                for i in range(len(image_infos)):\n",
    "                    submission = submission.append({\"image_id\" : image_infos[i]['file_name'], \"PredictionString\" : ' '.join(str(e) for e in outputs[i].flatten())}, \n",
    "                                            ignore_index=True)\n",
    "\n",
    "            hist = add_hist(hist, masks, outputs, n_class=n_class)\n",
    "        \n",
    "        acc, acc_cls, mIoU, fwavacc, IoU = label_accuracy_score(hist)\n",
    "        IoU_by_class = [{classes : round(IoU,4)} for IoU, classes in zip(IoU , category_names)]\n",
    "\n",
    "        avrg_loss = total_loss / cnt\n",
    "        print(f'Validation #{epoch}  Average Loss: {round(avrg_loss.item(), 4)}, Accuracy : {round(acc, 4)}, mIoU: {round(mIoU, 4)}')\n",
    "        print(f'IoU by class : {IoU_by_class}')\n",
    "        \n",
    "    return avrg_loss, mIoU, submission"
   ]
  },
  {
   "cell_type": "code",
   "execution_count": 7,
   "metadata": {},
   "outputs": [],
   "source": [
    "def uniform_soup(cfg, model, checkpoint_paths ,device, by_name = False):\n",
    "    val_dataset = CustomDataLoader(data_dir=args.val_json_path,\n",
    "                                   mode='val',\n",
    "                                   transform=do_transform(mode='val'),\n",
    "                                   data_path=args.data_dir)\n",
    "\n",
    "    val_loader = torch.utils.data.DataLoader(dataset=val_dataset,\n",
    "                                             batch_size=args.batch_size,\n",
    "                                             shuffle=False,\n",
    "                                             num_workers=args.num_workers,\n",
    "                                             collate_fn=collate_fn)\n",
    "    \n",
    "    criterion = create_criterion(args.use_losses)\n",
    "    model = model.to(device)\n",
    "    model_dict = model.state_dict()\n",
    "    soups = {key:[] for key in model_dict}\n",
    "    checkpoint = {}\n",
    "    for i, checkpoint_path in enumerate(checkpoint_paths):\n",
    "        checkpoint = torch.load(checkpoint_path, map_location=device)\n",
    "        weight_dict = checkpoint.state_dict()\n",
    "        for k, v in weight_dict.items():\n",
    "            soups[k].append(v)\n",
    "    if 0 < len(soups):\n",
    "        soups = {k:(torch.sum(torch.stack(v), axis = 0) / len(v)).type(v[0].dtype) for k, v in soups.items() if len(v) != 0}\n",
    "        model_dict.update(soups)\n",
    "        model.load_state_dict(model_dict)\n",
    "    \n",
    "    model.load_state_dict(model_dict)\n",
    "    \n",
    "    avrg_loss, val_mIoU, val_csv = validation(args, 0, model, val_loader, criterion, device)\n",
    "    \n",
    "    return model"
   ]
  },
  {
   "attachments": {},
   "cell_type": "markdown",
   "metadata": {},
   "source": [
    "0. 모델 & checkpoint 가져오기"
   ]
  },
  {
   "cell_type": "code",
   "execution_count": 8,
   "metadata": {},
   "outputs": [],
   "source": [
    "model = create_model(args.model_name)\n",
    "\n",
    "################ soup할 checkpoint path 적기 ################\n",
    "checkpoint_paths = [\n",
    "    '/opt/ml/input/code/saved/mit_unet_3plus_final_2/best_mIoU_12.pt',\n",
    "    '/opt/ml/input/code/saved/mit_unet_3plus_final_2/best_mIoU_11.pt',\n",
    "    '/opt/ml/input/code/saved/mit_unet_3plus_final_2/best_mIoU_9.pt',\n",
    "]\n",
    "################ soup할 checkpoint path 적기 ################\n",
    "device = 'cuda' if torch.cuda.is_available() else 'cpu'"
   ]
  },
  {
   "attachments": {},
   "cell_type": "markdown",
   "metadata": {},
   "source": [
    "1. uniform soup"
   ]
  },
  {
   "cell_type": "code",
   "execution_count": 11,
   "metadata": {},
   "outputs": [
    {
     "name": "stdout",
     "output_type": "stream",
     "text": [
      "\n",
      "[Uniform Soup]\n",
      "loading annotations into memory...\n",
      "Done (t=1.10s)\n",
      "creating index...\n",
      "index created!\n",
      "\n",
      " Start validation #0\n",
      "Validation #0  Average Loss: 0.4245, Accuracy : 0.9447, mIoU: 0.6807\n",
      "IoU by class : [{'Background': 0.968}, {'General trash': 0.4625}, {'Paper': 0.8205}, {'Paper pack': 0.5377}, {'Metal': 0.5816}, {'Glass': 0.6223}, {'Plastic': 0.5142}, {'Styrofoam': 0.7712}, {'Plastic bag': 0.8651}, {'Battery': 0.8434}, {'Clothing': 0.5016}]\n"
     ]
    }
   ],
   "source": [
    "################ save dir path 적기 ################\n",
    "save_dir_path = './soup/'\n",
    "name = 'uniform_soup' # soup 이름 적기\n",
    "################ save dir path 적기 ################\n",
    "\n",
    "print(\"\\n[Uniform Soup]\")\n",
    "uniform_model = uniform_soup(args, model, checkpoint_paths, device)\n",
    "\n",
    "torch.save(uniform_model, save_dir_path + f'uniform_model_soup_{name}.pt')"
   ]
  },
  {
   "attachments": {},
   "cell_type": "markdown",
   "metadata": {},
   "source": [
    "2. Greedy Soup (uniform weight update)"
   ]
  }
 ],
 "metadata": {
  "kernelspec": {
   "display_name": "torch",
   "language": "python",
   "name": "python3"
  },
  "language_info": {
   "codemirror_mode": {
    "name": "ipython",
    "version": 3
   },
   "file_extension": ".py",
   "mimetype": "text/x-python",
   "name": "python",
   "nbconvert_exporter": "python",
   "pygments_lexer": "ipython3",
   "version": "3.8.5"
  },
  "orig_nbformat": 4,
  "vscode": {
   "interpreter": {
    "hash": "8bff0657a98b8ee576cbe89028f6a544b770fee234379978e147d89ef60d92ed"
   }
  }
 },
 "nbformat": 4,
 "nbformat_minor": 2
}
