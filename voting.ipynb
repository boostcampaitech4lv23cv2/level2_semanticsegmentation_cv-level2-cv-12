{
 "cells": [
  {
   "cell_type": "code",
   "execution_count": null,
   "metadata": {},
   "outputs": [],
   "source": [
    "import pandas as pd\n",
    "from tqdm import tqdm\n",
    "\n",
    "file_names = []\n",
    "outputs = []\n",
    "output_paths = [\n",
    "    '/opt/ml/input/code/submission/voting/MVT.csv',\n",
    "    '/opt/ml/input/code/submission/voting/Segformerb4.csv',\n",
    "    '/opt/ml/input/code/submission/voting/Segformerb5.csv'\n",
    "]\n",
    "\n",
    "for output_path in output_paths:\n",
    "    data = pd.read_csv(output_path)\n",
    "    outputs.append(list(data['PredictionString']))\n",
    "    file_names.append(list(data['image_id']))"
   ]
  },
  {
   "cell_type": "code",
   "execution_count": 16,
   "metadata": {},
   "outputs": [
    {
     "data": {
      "text/plain": [
       "(array([ 0,  9, 18, 27, 36, 45, 54, 63, 72]),\n",
       " array([ True,  True,  True,  True,  True,  True,  True,  True,  True]),\n",
       " array([0, 1, 5, 7, 8, 9, 1, 0, 6]))"
      ]
     },
     "execution_count": 16,
     "metadata": {},
     "output_type": "execute_result"
    }
   ],
   "source": [
    "import numpy as np\n",
    "\n",
    "l_t = np.array([0,1,2,3,4,5,6,7,8])\n",
    "l_p = np.array([0,1,5,7,8,9,1,0,6])\n",
    "\n",
    "mask = (l_t >= 0) & (l_t < 9)\n",
    "\n",
    "# hist = np.bincount(\n",
    "# \t\t\t\t9 * l_t[mask].astype(int) + l_p[mask],\n",
    "#         minlength=9 ** 2\n",
    "# \t\t).reshape(9, 9)\n"
   ]
  },
  {
   "cell_type": "code",
   "execution_count": 17,
   "metadata": {},
   "outputs": [
    {
     "name": "stderr",
     "output_type": "stream",
     "text": [
      "819it [01:31,  8.95it/s]\n"
     ]
    }
   ],
   "source": [
    "results = []\n",
    "weights = [0.4, 0.3, 0.3]\n",
    "\n",
    "for o1, o2, o3 in tqdm(zip(outputs[0], outputs[1], outputs[2])):\n",
    "    result = []\n",
    "    for i, j, k in zip(o1.split(' '), o2.split(' '), o3.split(' ')):\n",
    "        i, j, k = int(i), int(j), int(k)\n",
    "        \n",
    "        if int(i + j + k) > 33:\n",
    "            print(i, j, k, str(round((int(i+j+k))/len(outputs))))\n",
    "            \n",
    "        result.append(str(round((int(i+j+k))/len(outputs))))\n",
    "        \n",
    "    results.append(result)"
   ]
  },
  {
   "cell_type": "code",
   "execution_count": 18,
   "metadata": {},
   "outputs": [
    {
     "name": "stdout",
     "output_type": "stream",
     "text": [
      "Start Inference\n",
      "End Voting.\n"
     ]
    }
   ],
   "source": [
    "import os\n",
    "\n",
    "print(\"Start Inference\")\n",
    "# sample_submisson.csv 열기\n",
    "submission = pd.read_csv('./submission/sample_submission.csv', index_col=None)\n",
    "\n",
    "# PredictionString 대입\n",
    "for file_name, array in zip(file_names[0], results):\n",
    "    submission = submission.append({\"image_id\" : file_name, \"PredictionString\" : ' '.join(array)}, \n",
    "                                ignore_index=True)\n",
    "    \n",
    "submission.to_csv(os.path.join('/opt/ml/input/code/submission/voting', 'submission.csv'), index=False)\n",
    "print(\"End Voting.\")"
   ]
  },
  {
   "cell_type": "code",
   "execution_count": 2,
   "metadata": {},
   "outputs": [
    {
     "name": "stderr",
     "output_type": "stream",
     "text": [
      "/opt/conda/envs/torch/lib/python3.8/site-packages/scipy/__init__.py:146: UserWarning: A NumPy version >=1.16.5 and <1.23.0 is required for this version of SciPy (detected version 1.24.1\n",
      "  warnings.warn(f\"A NumPy version >={np_minversion} and <{np_maxversion}\"\n"
     ]
    }
   ],
   "source": [
    "import numpy as np\n",
    "import pydensecrf.densecrf as dcrf\n",
    "import matplotlib.pyplot as plt\n",
    "from pydensecrf.utils import unary_from_labels, create_pairwise_bilateral, create_pairwise_gaussian\n",
    "import cv2\n",
    "from skimage.color import gray2rgb\n",
    "from skimage.color import rgb2gray\n",
    "import matplotlib.pyplot as plt\n",
    "%matplotlib inline"
   ]
  },
  {
   "cell_type": "code",
   "execution_count": null,
   "metadata": {},
   "outputs": [],
   "source": [
    "X=cv2.imread(\"C:/Aashish/Assignments/Machine Learning/Aashish/input/rampur_irs2l4_2may2017.tif\")\n",
    "y=cv2.imread(\"C:/Aashish/Assignments/Machine Learning/Aashish/label/rampur_burned.tif\")\n",
    "# out=cv2.imread(\"C:\\Aashish\\Assignments\\Machine Learning\\CRF - DataSet\\20_actual.png\")"
   ]
  },
  {
   "cell_type": "code",
   "execution_count": null,
   "metadata": {},
   "outputs": [],
   "source": [
    "\"\"\"\n",
    "Function which returns the labelled image after applying CRF\n",
    "\n",
    "\"\"\"\n",
    "\n",
    "#Original_image = Image which has to labelled\n",
    "#Annotated image = Which has been labelled by some technique( FCN in this case)\n",
    "#Output_image = Name of the final output image after applying CRF\n",
    "#Use_2d = boolean variable \n",
    "#if use_2d = True specialised 2D fucntions will be applied\n",
    "#else Generic functions will be applied\n",
    "\n",
    "def crf(original_image, annotated_image, output_image, use_2d = True):\n",
    "    \n",
    "    # Converting annotated image to RGB if it is Gray scale\n",
    "    if(len(annotated_image.shape)<3):\n",
    "        annotated_image = gray2rgb(annotated_image).astype(np.uint32)\n",
    "    \n",
    "    cv2.imwrite(\"testing2.png\",annotated_image)\n",
    "    annotated_image = annotated_image.astype(np.uint32)\n",
    "    #Converting the annotations RGB color to single 32 bit integer\n",
    "    annotated_label = annotated_image[:,:,0].astype(np.uint32) + (annotated_image[:,:,1]<<8).astype(np.uint32) + (annotated_image[:,:,2]<<16).astype(np.uint32)\n",
    "    \n",
    "    # Convert the 32bit integer color to 0,1, 2, ... labels.\n",
    "    colors, labels = np.unique(annotated_label, return_inverse=True)\n",
    "    \n",
    "    #Creating a mapping back to 32 bit colors\n",
    "    colorize = np.empty((len(colors), 3), np.uint8)\n",
    "    colorize[:,0] = (colors & 0x0000FF)\n",
    "    colorize[:,1] = (colors & 0x00FF00) >> 8\n",
    "    colorize[:,2] = (colors & 0xFF0000) >> 16\n",
    "    \n",
    "    #Gives no of class labels in the annotated image\n",
    "    n_labels = len(set(labels.flat)) \n",
    "    \n",
    "    print(\"No of labels in the Image are \")\n",
    "    print(n_labels)\n",
    "    \n",
    "    \n",
    "    #Setting up the CRF model\n",
    "    if use_2d :\n",
    "        d = dcrf.DenseCRF2D(original_image.shape[1], original_image.shape[0], n_labels)\n",
    "\n",
    "        # get unary potentials (neg log probability)\n",
    "        U = unary_from_labels(labels, n_labels, gt_prob=0.90, zero_unsure=False)\n",
    "        d.setUnaryEnergy(U)\n",
    "\n",
    "        # This adds the color-independent term, features are the locations only.\n",
    "        d.addPairwiseGaussian(sxy=(3, 3), compat=3, kernel=dcrf.DIAG_KERNEL,\n",
    "                          normalization=dcrf.NORMALIZE_SYMMETRIC)\n",
    "\n",
    "        # This adds the color-dependent term, i.e. features are (x,y,r,g,b).\n",
    "        d.addPairwiseBilateral(sxy=(80, 80), srgb=(13, 13, 13), rgbim=original_image,\n",
    "                           compat=10,\n",
    "                           kernel=dcrf.DIAG_KERNEL,\n",
    "                           normalization=dcrf.NORMALIZE_SYMMETRIC)\n",
    "        \n",
    "    #Run Inference for 5 steps \n",
    "    Q = d.inference(5)\n",
    "\n",
    "    # Find out the most probable class for each pixel.\n",
    "    MAP = np.argmax(Q, axis=0)\n",
    "\n",
    "    # Convert the MAP (labels) back to the corresponding colors and save the image.\n",
    "    # Note that there is no \"unknown\" here anymore, no matter what we had at first.\n",
    "    MAP = colorize[MAP,:]\n",
    "    cv2.imwrite(output_image,MAP.reshape(original_image.shape))\n",
    "    return MAP.reshape(original_image.shape)"
   ]
  },
  {
   "cell_type": "code",
   "execution_count": null,
   "metadata": {},
   "outputs": [],
   "source": [
    "crfimage = crf(X,y,\"out.png\")"
   ]
  },
  {
   "cell_type": "code",
   "execution_count": null,
   "metadata": {},
   "outputs": [],
   "source": [
    "plt.subplot(1,2,1)\n",
    "plt.imshow(y)\n",
    "plt.subplot(1,2,2)\n",
    "plt.imshow(crfimage)"
   ]
  },
  {
   "cell_type": "code",
   "execution_count": 4,
   "metadata": {},
   "outputs": [],
   "source": [
    "import glob\n",
    "from PIL import Image\n",
    "import matplotlib as plt\n",
    "import numpy as np\n",
    "\n",
    "path = '/opt/ml/input/data/batch_03_vt/*'\n",
    "image_paths = glob.glob(path)\n",
    "\n",
    "for i, image_path in enumerate(image_paths):\n",
    "    image = np.array(Image.open(image_path))\n",
    "    print(image.shape)\n",
    "    \n",
    "    if i == 20:\n",
    "        break"
   ]
  },
  {
   "cell_type": "code",
   "execution_count": null,
   "metadata": {},
   "outputs": [],
   "source": []
  }
 ],
 "metadata": {
  "kernelspec": {
   "display_name": "torch",
   "language": "python",
   "name": "python3"
  },
  "language_info": {
   "codemirror_mode": {
    "name": "ipython",
    "version": 3
   },
   "file_extension": ".py",
   "mimetype": "text/x-python",
   "name": "python",
   "nbconvert_exporter": "python",
   "pygments_lexer": "ipython3",
   "version": "3.8.5 (default, Sep  4 2020, 07:30:14) \n[GCC 7.3.0]"
  },
  "orig_nbformat": 4,
  "vscode": {
   "interpreter": {
    "hash": "8bff0657a98b8ee576cbe89028f6a544b770fee234379978e147d89ef60d92ed"
   }
  }
 },
 "nbformat": 4,
 "nbformat_minor": 2
}
