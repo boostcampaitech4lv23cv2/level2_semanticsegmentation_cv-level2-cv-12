{
 "cells": [
  {
   "cell_type": "code",
   "execution_count": 2,
   "metadata": {},
   "outputs": [],
   "source": [
    "import os\n",
    "import json\n",
    "import random\n",
    "import numpy as np\n",
    "import torch\n",
    "from sklearn.model_selection import StratifiedGroupKFold\n",
    "\n",
    "def seed_everything(seed):\n",
    "    random.seed(seed)\n",
    "    os.environ['PYTHONHASHSEED'] = str(seed)\n",
    "    np.random.seed(seed)\n",
    "    torch.manual_seed(seed)\n",
    "    torch.cuda.manual_seed(seed)\n",
    "    torch.backends.cudnn.deterministic = True\n",
    "    torch.backends.cudnn.benchmark = True\n"
   ]
  },
  {
   "cell_type": "code",
   "execution_count": 32,
   "metadata": {},
   "outputs": [],
   "source": [
    "seed = 21\n",
    "input_json = '/opt/ml/input/data/train.json'\n",
    "output_dir = '/opt/ml/input/data'\n",
    "\n",
    "seed_everything(21)"
   ]
  },
  {
   "cell_type": "code",
   "execution_count": 33,
   "metadata": {},
   "outputs": [
    {
     "name": "stdout",
     "output_type": "stream",
     "text": [
      "\n",
      "N images\t 2617 \n",
      "N annotations\t 20988 \n",
      "N categories\t 10 \n",
      "\n",
      "data keys\t dict_keys(['info', 'licenses', 'images', 'categories', 'annotations'])\n",
      "image keys\t dict_keys(['license', 'url', 'file_name', 'height', 'width', 'date_captured', 'id'])\n",
      "annotation keys\t dict_keys(['id', 'image_id', 'category_id', 'segmentation', 'area', 'bbox', 'iscrowd'])\n"
     ]
    }
   ],
   "source": [
    "with open(input_json) as f:\n",
    "    data = json.load(f)\n",
    "\n",
    "images = data['images']\n",
    "annotations = data['annotations']\n",
    "categories = data['categories']\n",
    "\n",
    "print('\\nN images\\t', len(images), '\\nN annotations\\t', len(annotations), '\\nN categories\\t', len(categories), '\\n')\n",
    "print('data keys\\t', data.keys())\n",
    "print('image keys\\t', images[0].keys())\n",
    "print('annotation keys\\t', annotations[0].keys())"
   ]
  },
  {
   "cell_type": "code",
   "execution_count": 34,
   "metadata": {},
   "outputs": [
    {
     "name": "stdout",
     "output_type": "stream",
     "text": [
      "10\n",
      "0\n",
      "8\n",
      "0\n"
     ]
    }
   ],
   "source": [
    "print(annotations[10]['id'])\n",
    "print(annotations[10]['image_id'])\n",
    "print(annotations[10]['category_id'])\n",
    "print(annotations[10]['iscrowd'])"
   ]
  },
  {
   "cell_type": "code",
   "execution_count": 35,
   "metadata": {},
   "outputs": [
    {
     "name": "stdout",
     "output_type": "stream",
     "text": [
      "done. /opt/ml/input/data/seed21/train_0.json\n",
      "done. /opt/ml/input/data/seed21/val_0.json\n",
      "done. /opt/ml/input/data/seed21/train_1.json\n",
      "done. /opt/ml/input/data/seed21/val_1.json\n",
      "done. /opt/ml/input/data/seed21/train_2.json\n",
      "done. /opt/ml/input/data/seed21/val_2.json\n"
     ]
    }
   ],
   "source": [
    "annotation_infos = [(ann['image_id'], ann['category_id']) for ann in annotations]\n",
    "X = np.ones((len(annotations), 1))          # (20988, 1)\n",
    "y = np.array([annotation_info[1] for annotation_info in annotation_infos])          # category_ids (20988)\n",
    "groups = np.array([annotation_info[0] for annotation_info in annotation_infos])     # image_ids (20988)\n",
    "\n",
    "cv = StratifiedGroupKFold(n_splits=3, shuffle=True, random_state=seed)\n",
    "\n",
    "for idx, (train_ids, val_ids) in enumerate(cv.split(X, y, groups)):\n",
    "    train_images = [x for x in images if x.get('id') in groups[train_ids]]\n",
    "    val_images = [x for x in images if x.get('id') in groups[val_ids]]\n",
    "    train_annotations = [x for x in annotations if x.get('image_id') in groups[train_ids]]\n",
    "    val_annotations = [x for x in annotations if x.get('image_id') in groups[val_ids]]\n",
    "\n",
    "    train_data = {\n",
    "        'images': train_images,\n",
    "        'annotations': train_annotations,\n",
    "        'categories': categories,\n",
    "    }\n",
    "\n",
    "    val_data = {\n",
    "        'images': val_images,\n",
    "        'annotations': val_annotations,\n",
    "        'categories': categories,\n",
    "    }\n",
    "    \n",
    "    output_seed_dir = os.path.join(output_dir, f'seed{seed}')\n",
    "    os.makedirs(output_seed_dir, exist_ok=True)\n",
    "    output_train_json = os.path.join(output_seed_dir, f'train_{idx}.json')\n",
    "    output_val_json = os.path.join(output_seed_dir, f'val_{idx}.json')\n",
    "\n",
    "    \n",
    "    with open(output_train_json, 'w') as train_writer:\n",
    "        json.dump(train_data, train_writer)\n",
    "    print(f'done. {output_train_json}')\n",
    "    \n",
    "    with open(output_val_json, 'w') as val_writer:\n",
    "        json.dump(val_data, val_writer)\n",
    "    print(f'done. {output_val_json}')"
   ]
  },
  {
   "cell_type": "code",
   "execution_count": null,
   "metadata": {},
   "outputs": [],
   "source": []
  }
 ],
 "metadata": {
  "kernelspec": {
   "display_name": "base",
   "language": "python",
   "name": "python3"
  },
  "language_info": {
   "codemirror_mode": {
    "name": "ipython",
    "version": 3
   },
   "file_extension": ".py",
   "mimetype": "text/x-python",
   "name": "python",
   "nbconvert_exporter": "python",
   "pygments_lexer": "ipython3",
   "version": "3.8.5"
  },
  "orig_nbformat": 4,
  "vscode": {
   "interpreter": {
    "hash": "d4d1e4263499bec80672ea0156c357c1ee493ec2b1c70f0acce89fc37c4a6abe"
   }
  }
 },
 "nbformat": 4,
 "nbformat_minor": 2
}
