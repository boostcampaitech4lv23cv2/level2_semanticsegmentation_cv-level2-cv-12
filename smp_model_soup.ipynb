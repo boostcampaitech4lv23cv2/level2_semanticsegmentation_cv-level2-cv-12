{
 "cells": [
  {
   "attachments": {},
   "cell_type": "markdown",
   "metadata": {},
   "source": [
    "# Model soup"
   ]
  },
  {
   "cell_type": "code",
   "execution_count": 1,
   "metadata": {},
   "outputs": [],
   "source": [
    "# 기본코드\n",
    "import inspect\n",
    "import os\n",
    "import sys\n",
    "import time\n",
    "import numpy as np\n",
    "import pandas as pd\n",
    "\n",
    "import torch\n",
    "from dataloader import CustomDataLoader, do_transform, collate_fn\n",
    "from modules.losses import create_criterion\n",
    "from utils.utils import label_accuracy_score, add_hist, set_seed\n",
    "from easydict import EasyDict\n",
    "from modules.model import create_model\n",
    "\n",
    "\n",
    "args = EasyDict({\n",
    "    'val_json_path': '../data/val.json',\n",
    "    'data_dir': '../data',\n",
    "    'batch_size': 2,\n",
    "    'num_workers': 4,\n",
    "    'model_name': 'mit_unet_3plus',\n",
    "    'use_losses': 'combo',\n",
    "    'save_submission': True\n",
    "})"
   ]
  },
  {
   "cell_type": "code",
   "execution_count": 2,
   "metadata": {},
   "outputs": [],
   "source": [
    "def validation(args, epoch, model, data_loader, criterion, device):\n",
    "    print(f'\\n Start validation #{epoch}')\n",
    "    model.eval()\n",
    "    category_names = ['Background', 'General trash', 'Paper', 'Paper pack', 'Metal', 'Glass', 'Plastic', 'Styrofoam', 'Plastic bag', 'Battery', 'Clothing']\n",
    "\n",
    "    with torch.no_grad():\n",
    "        n_class = 11\n",
    "        total_loss = 0\n",
    "        cnt = 0\n",
    "        hist = np.zeros((n_class, n_class))\n",
    "        submission = pd.read_csv('/opt/ml/input/code/submission/sample_submission.csv', index_col=None)\n",
    "        for step, (images, masks, image_infos) in enumerate(data_loader):\n",
    "            images = torch.stack(images)       \n",
    "            masks = torch.stack(masks).long()\n",
    "            images, masks = images.to(device), masks.to(device)            \n",
    "            \n",
    "            # device 할당\n",
    "            model = model.to(device)\n",
    "            \n",
    "            outputs = model(images)\n",
    "            loss = criterion(outputs, masks)\n",
    "            total_loss += loss\n",
    "            cnt += 1\n",
    "            outputs = torch.argmax(outputs, dim=1).detach().cpu().numpy()\n",
    "            masks = masks.detach().cpu().numpy()\n",
    "\n",
    "            if args.save_submission:\n",
    "                for i in range(len(image_infos)):\n",
    "                    submission = submission.append({\"image_id\" : image_infos[i]['file_name'], \"PredictionString\" : ' '.join(str(e) for e in outputs[i].flatten())}, \n",
    "                                            ignore_index=True)\n",
    "\n",
    "            hist = add_hist(hist, masks, outputs, n_class=n_class)\n",
    "        \n",
    "        acc, acc_cls, mIoU, fwavacc, IoU = label_accuracy_score(hist)\n",
    "        IoU_by_class = [{classes : round(IoU,4)} for IoU, classes in zip(IoU , category_names)]\n",
    "\n",
    "        avrg_loss = total_loss / cnt\n",
    "        print(f'Validation #{epoch}  Average Loss: {round(avrg_loss.item(), 4)}, Accuracy : {round(acc, 4)}, mIoU: {round(mIoU, 4)}')\n",
    "        print(f'IoU by class : {IoU_by_class}')\n",
    "        \n",
    "    return avrg_loss, mIoU, submission"
   ]
  },
  {
   "attachments": {},
   "cell_type": "markdown",
   "metadata": {},
   "source": [
    "0. 모델 & checkpoint 가져오기"
   ]
  },
  {
   "cell_type": "code",
   "execution_count": 3,
   "metadata": {},
   "outputs": [],
   "source": [
    "model = create_model(args.model_name)\n",
    "\n",
    "################ soup할 checkpoint path 적기 ################\n",
    "checkpoint_paths = [\n",
    "    # '/opt/ml/input/code/saved/mit_unet_3plus_final_2/best_mIoU_9.pt', ## 0.6560267964026902\n",
    "    # '/opt/ml/input/code/saved/mit_unet_3plus_final_2/best_mIoU_11.pt', ## 0.6626809257032166  ## 0.6761000201867057\n",
    "    # '/opt/ml/input/code/saved/mit_unet_3plus_final_2/best_mIoU_12.pt',  ## 0.6810456142148257 ## 0.6813905470585242\n",
    "    '/opt/ml/input/code/soup/uniform_model_soup.pt'\n",
    "    # '/opt/ml/input/code/saved/mit_unet_3plus_final_2/best_mIoU_41.pt',  ## 0.690890959805209  ## ascending: 0.6971411903772223 ## descending: 0.6971557543037707 ## uniform: 0.6905\n",
    "]\n",
    "################ soup할 checkpoint path 적기 ################\n",
    "device = 'cuda' if torch.cuda.is_available() else 'cpu'"
   ]
  },
  {
   "attachments": {},
   "cell_type": "markdown",
   "metadata": {},
   "source": [
    "1. uniform soup"
   ]
  },
  {
   "cell_type": "code",
   "execution_count": 4,
   "metadata": {},
   "outputs": [],
   "source": [
    "def uniform_soup(args, model, checkpoint_paths, device, by_name=False):\n",
    "    val_dataset = CustomDataLoader(data_dir=args.val_json_path,\n",
    "                                   mode='val',\n",
    "                                   transform=do_transform(mode='val'),\n",
    "                                   data_path=args.data_dir)\n",
    "\n",
    "    val_loader = torch.utils.data.DataLoader(dataset=val_dataset,\n",
    "                                             batch_size=args.batch_size,\n",
    "                                             shuffle=False,\n",
    "                                             num_workers=args.num_workers,\n",
    "                                             collate_fn=collate_fn)\n",
    "    \n",
    "    criterion = create_criterion(args.use_losses)\n",
    "    model = model.to(device)\n",
    "    model_dict = model.state_dict()\n",
    "    soups = {key:[] for key in model_dict}\n",
    "    checkpoint = {}\n",
    "    for i, checkpoint_path in enumerate(checkpoint_paths):\n",
    "        checkpoint = torch.load(checkpoint_path, map_location=device)\n",
    "        weight_dict = checkpoint.state_dict()\n",
    "        for k, v in weight_dict.items():\n",
    "            soups[k].append(v)\n",
    "    if 0 < len(soups):\n",
    "        soups = {k:(torch.sum(torch.stack(v), axis = 0) / len(v)).type(v[0].dtype) for k, v in soups.items() if len(v) != 0}\n",
    "        model_dict.update(soups)\n",
    "        model.load_state_dict(model_dict)\n",
    "    \n",
    "    model.load_state_dict(model_dict)\n",
    "    \n",
    "    avrg_loss, val_mIoU, val_csv = validation(args, 0, model, val_loader, criterion, device)\n",
    "    val_csv.to_csv(f'/opt/ml/input/code/submission/mit_unet_3plus_uniform_soup/val_miou.csv', index=False)\n",
    "    \n",
    "    return model"
   ]
  },
  {
   "cell_type": "code",
   "execution_count": 5,
   "metadata": {},
   "outputs": [
    {
     "name": "stdout",
     "output_type": "stream",
     "text": [
      "\n",
      "[Uniform Soup]\n",
      "loading annotations into memory...\n",
      "Done (t=1.04s)\n",
      "creating index...\n",
      "index created!\n",
      "\n",
      " Start validation #0\n",
      "Validation #0  Average Loss: 0.4167, Accuracy : 0.9489, mIoU: 0.6972\n",
      "IoU by class : [{'Background': 0.9699}, {'General trash': 0.4938}, {'Paper': 0.8362}, {'Paper pack': 0.5264}, {'Metal': 0.6089}, {'Glass': 0.6389}, {'Plastic': 0.5337}, {'Styrofoam': 0.811}, {'Plastic bag': 0.869}, {'Battery': 0.8288}, {'Clothing': 0.5522}]\n"
     ]
    }
   ],
   "source": [
    "################ save dir path 적기 ################\n",
    "save_dir_path = './soup/'\n",
    "name = 'uniform_model_soup' # soup 이름 적기\n",
    "################ save dir path 적기 ################\n",
    "\n",
    "print(\"\\n[Uniform Soup]\")\n",
    "uniform_model = uniform_soup(args, model, checkpoint_paths, device)\n",
    "\n",
    "# torch.save(uniform_model, save_dir_path + f'{name}.pt')"
   ]
  },
  {
   "attachments": {},
   "cell_type": "markdown",
   "metadata": {},
   "source": [
    "2. Greedy Soup (uniform weight update)"
   ]
  },
  {
   "cell_type": "code",
   "execution_count": null,
   "metadata": {},
   "outputs": [],
   "source": [
    "def greedy_soup(cfg, model_ori, checkpoint_paths, device):    \n",
    "    val_dataset = CustomDataLoader(data_dir=args.val_json_path,\n",
    "                                   mode='val',\n",
    "                                   transform=do_transform(mode='val'),\n",
    "                                   data_path=args.data_dir)\n",
    "\n",
    "    val_loader = torch.utils.data.DataLoader(dataset=val_dataset,\n",
    "                                             batch_size=args.batch_size,\n",
    "                                             shuffle=False,\n",
    "                                             num_workers=args.num_workers,\n",
    "                                             collate_fn=collate_fn)\n",
    "    criterion = create_criterion(args.use_losses)\n",
    "    \n",
    "    ## 0.6560267964026902\n",
    "    ## 0.6626809257032166  \n",
    "    ## 0.6810456142148257 \n",
    "    ## 0.690890959805209  \n",
    "    \n",
    "    ious = [0.6560267964026902, 0.6626809257032166, 0.6810456142148257, 0.690890959805209]\n",
    "    \n",
    "    result = []\n",
    "    checkpoint = {}\n",
    "    for i, checkpoint_path in enumerate(checkpoint_paths):\n",
    "        # model = model_ori.to(device)\n",
    "        # checkpoint = torch.load(checkpoint_path, map_location=device)\n",
    "        # state_dict = checkpoint.state_dict()\n",
    "        # model.load_state_dict(state_dict)\n",
    "\n",
    "        # avrg_loss, val_mIoU, val_csv = validation(args, 0, model, val_loader, criterion, device)\n",
    "        \n",
    "        # eval_kwargs = {}\n",
    "        # eval_kwargs.update(metric=['mIoU'])\n",
    "        \n",
    "        # result.append((val_mIoU, checkpoint_path))\n",
    "        # print(f\"리스트에 {i}번째 mIoU {val_mIoU} 저장\")\n",
    "        \n",
    "        result.append((ious[i], checkpoint_path))\n",
    "        print(f\"리스트에 {i}번째 mIoU {ious[i]} 저장\")\n",
    "    \n",
    "    result.sort(key = lambda x : x[0], reverse = True)\n",
    "    print(f\"리스트 정렬\")\n",
    "    print(result)\n",
    "    \n",
    "    model = model_ori.to(device)\n",
    "    model_dict = model.state_dict()\n",
    "    pre_metric_value = 0\n",
    "    pre_weight_dict = {}\n",
    "    for i, (mIoU, checkpoint_path) in enumerate(result):\n",
    "        model = model_ori.to(device)\n",
    "        soups = {key:[] for key in model_dict}\n",
    "        now_model_dict = model_dict\n",
    "        if i == 0:\n",
    "            checkpoint = torch.load(checkpoint_path, map_location=device)\n",
    "            pre_metric_value = mIoU\n",
    "            pre_weight_dict = checkpoint.state_dict()\n",
    "            print(\"soup 모델에 가장 높은 mIou를 가진 checkpoint가 추가되었습니다\")\n",
    "            print(f\"추가된 checkpoint_path: {checkpoint_path}\")\n",
    "            print(f\"현재 최고 mIoU: {pre_metric_value}\")\n",
    "        else:\n",
    "            checkpoint = torch.load(checkpoint_path, map_location=device)\n",
    "            weight_dict = checkpoint.state_dict()\n",
    "            \n",
    "            for k, v in pre_weight_dict.items():\n",
    "                soups[k].append(v)\n",
    "            for k, v in weight_dict.items():\n",
    "                soups[k].append(v)    \n",
    "            if 0 < len(soups):\n",
    "                soups = {k:(torch.sum(torch.stack(v), axis = 0) / len(v)).type(v[0].dtype) for k, v in soups.items() if len(v) != 0}\n",
    "                now_model_dict.update(soups)\n",
    "                \n",
    "            \n",
    "            model.load_state_dict(now_model_dict)    \n",
    "            \n",
    "            eval_kwargs = {}\n",
    "            eval_kwargs.update(metric=['mIoU'])\n",
    "            avrg_loss, val_mIoU, val_csv = validation(args, 0, model, val_loader, criterion, device)\n",
    "            \n",
    "            if val_mIoU >= pre_metric_value:\n",
    "                pre_metric_value = val_mIoU\n",
    "                pre_weight_dict = now_model_dict\n",
    "                print(\"soup 모델에 새로운 checkpoint가 추가되었습니다\")\n",
    "                print(f\"추가된 checkpoint_path: {checkpoint_path}\")\n",
    "                print(f\"현재 최고 mIoU: {pre_metric_value}\")\n",
    "            else:\n",
    "                print(\"이번 체크 포인트는 soup 모델에 추가되지 않았습니다\")\n",
    "                print(f\"이번 checkpoint_path: {checkpoint_path}\")\n",
    "                print(f\"현재 최고 mIoU: {pre_metric_value}, 이번 mIou {val_mIoU}\")\n",
    "            \n",
    "    model = model_ori.to(device)\n",
    "    model.load_state_dict(pre_weight_dict)\n",
    "    \n",
    "    return model"
   ]
  },
  {
   "cell_type": "code",
   "execution_count": null,
   "metadata": {},
   "outputs": [],
   "source": [
    "################ save dir path 적기 ################\n",
    "save_dir_path = './soup/'\n",
    "name = 'greedy_model_soup' # soup 이름 적기\n",
    "################ save dir path 적기 ################\n",
    "\n",
    "print(\"[Greedy Soup (uniform weight update)]\")\n",
    "greedy_model = greedy_soup(args, model, checkpoint_paths, device)\n",
    "\n",
    "torch.save(greedy_model, save_dir_path + f'{name}.pt')"
   ]
  },
  {
   "cell_type": "code",
   "execution_count": 1,
   "metadata": {},
   "outputs": [],
   "source": [
    "import pandas as pd\n",
    "\n",
    "a = list(pd.read_csv('/opt/ml/input/code/submission/mit_unet_3plus_greedy_soup/submission.csv')['PredictionString'])\n",
    "b = list(pd.read_csv('/opt/ml/input/code/submission/mit_unet_3plus_uniform_soup/submission.csv')['PredictionString'])"
   ]
  },
  {
   "cell_type": "code",
   "execution_count": 2,
   "metadata": {},
   "outputs": [
    {
     "data": {
      "text/plain": [
       "(819, 819)"
      ]
     },
     "execution_count": 2,
     "metadata": {},
     "output_type": "execute_result"
    }
   ],
   "source": [
    "len(a), len(b)"
   ]
  },
  {
   "cell_type": "code",
   "execution_count": 6,
   "metadata": {},
   "outputs": [],
   "source": [
    "cnt = 0\n",
    "\n",
    "for i, j in zip(a, b):\n",
    "    if i == j:\n",
    "        print(cnt)\n",
    "        cnt += 1"
   ]
  },
  {
   "cell_type": "code",
   "execution_count": null,
   "metadata": {},
   "outputs": [],
   "source": []
  }
 ],
 "metadata": {
  "kernelspec": {
   "display_name": "torch",
   "language": "python",
   "name": "python3"
  },
  "language_info": {
   "codemirror_mode": {
    "name": "ipython",
    "version": 3
   },
   "file_extension": ".py",
   "mimetype": "text/x-python",
   "name": "python",
   "nbconvert_exporter": "python",
   "pygments_lexer": "ipython3",
   "version": "3.8.5"
  },
  "orig_nbformat": 4,
  "vscode": {
   "interpreter": {
    "hash": "8bff0657a98b8ee576cbe89028f6a544b770fee234379978e147d89ef60d92ed"
   }
  }
 },
 "nbformat": 4,
 "nbformat_minor": 2
}
